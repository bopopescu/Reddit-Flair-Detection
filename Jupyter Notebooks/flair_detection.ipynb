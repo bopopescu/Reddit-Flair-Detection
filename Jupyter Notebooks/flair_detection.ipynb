{
 "cells": [
  {
   "cell_type": "markdown",
   "metadata": {},
   "source": [
    "# Loading the Saved Model and Checking Prediction Accuracy"
   ]
  },
  {
   "cell_type": "code",
   "execution_count": 8,
   "metadata": {
    "scrolled": true
   },
   "outputs": [
    {
     "name": "stdout",
     "output_type": "stream",
     "text": [
      "\u001b[33mWARNING: The directory '/home/ansh23/.cache/pip' or its parent directory is not owned or is not writable by the current user. The cache has been disabled. Check the permissions and owner of that directory. If executing pip with sudo, you may want sudo's -H flag.\u001b[0m\n",
      "Requirement already satisfied: joblib in /usr/local/lib/python3.6/dist-packages (0.14.1)\n"
     ]
    }
   ],
   "source": [
    "!pip install joblib"
   ]
  },
  {
   "cell_type": "markdown",
   "metadata": {},
   "source": [
    "## We predict flair for https://www.reddit.com/r/india/comments/g8r2pe/skylines_of_mussoorieuttarakhand/"
   ]
  },
  {
   "cell_type": "code",
   "execution_count": 9,
   "metadata": {},
   "outputs": [
    {
     "data": {
      "text/plain": [
       "'Photography'"
      ]
     },
     "execution_count": 9,
     "metadata": {},
     "output_type": "execute_result"
    }
   ],
   "source": [
    "import pickle\n",
    "import logging\n",
    "import gensim\n",
    "import praw\n",
    "from praw.models import MoreComments\n",
    "import os\n",
    "import json\n",
    "import joblib\n",
    "from gensim import utils\n",
    "import gensim.parsing.preprocessing as gsp\n",
    "\n",
    "filters = [\n",
    "           gsp.strip_tags, \n",
    "           gsp.strip_punctuation,\n",
    "           gsp.strip_multiple_whitespaces,\n",
    "           gsp.strip_numeric,\n",
    "           gsp.remove_stopwords, \n",
    "           gsp.strip_short, \n",
    "           gsp.stem_text\n",
    "          ]\n",
    "\n",
    "def clean(s):\n",
    "    s = s.lower()\n",
    "    s = utils.to_unicode(s)\n",
    "    for f in filters:\n",
    "        s = f(s)\n",
    "    return s\n",
    "\n",
    "# model = bst\n",
    "\n",
    "\n",
    "reddit = praw.Reddit(client_id = \"F4OMSR9jAi_kFQ\",\n",
    "                    client_secret = \"dBKDarfWBg7QyeZ-CXlNeLYlQ9A\",\n",
    "                    user_agent = \"web_app:reddit_scraper:v1.1.1 (by u/skadwhoosh)\",\n",
    "                    username = \"skadwhoosh\",\n",
    "                    password = \"reddit@123\")\n",
    "\n",
    "model = joblib.load(\"../app/model/LR.pkl\")\n",
    "# result = loaded_model.score(X_test, Y_test)\n",
    "# print(result)\n",
    "\n",
    "\n",
    "def prediction(url):\n",
    "    submission = reddit.submission(url = url)\n",
    "    data = {}\n",
    "    data[\"title\"] = str(submission.title)\n",
    "    data[\"url\"] = str(submission.url)\n",
    "    data[\"body\"] = str(submission.selftext)\n",
    "\n",
    "    submission.comments.replace_more(limit=None)\n",
    "    comment = ''\n",
    "    count = 0\n",
    "    for top_level_comment in submission.comments:\n",
    "        comment = comment + ' ' + top_level_comment.body\n",
    "        count+=1\n",
    "        if(count > 10):\n",
    "            break\n",
    "\n",
    "    data[\"comment\"] = str(comment)\n",
    "\n",
    "    data['title'] = clean(str(data['title']))\n",
    "    data['body'] = clean(str(data['body']))\n",
    "    data['comment'] = clean(str(data['comment']))\n",
    "    \n",
    "    combined_features = data[\"title\"] + data[\"comment\"] + data[\"body\"] + data[\"url\"]\n",
    "\n",
    "    return str(model.predict([combined_features]))[2:-2]\n",
    " \n",
    "prediction(\"https://www.reddit.com/r/india/comments/g8r2pe/skylines_of_mussoorieuttarakhand/\")"
   ]
  },
  {
   "cell_type": "markdown",
   "metadata": {},
   "source": [
    "## As we can see, the model groups it under 'Photography' flair which is fairly accurate according to the original post."
   ]
  }
 ],
 "metadata": {
  "kernelspec": {
   "display_name": "Python 3",
   "language": "python",
   "name": "python3"
  },
  "language_info": {
   "codemirror_mode": {
    "name": "ipython",
    "version": 3
   },
   "file_extension": ".py",
   "mimetype": "text/x-python",
   "name": "python",
   "nbconvert_exporter": "python",
   "pygments_lexer": "ipython3",
   "version": "3.6.9"
  }
 },
 "nbformat": 4,
 "nbformat_minor": 4
}
